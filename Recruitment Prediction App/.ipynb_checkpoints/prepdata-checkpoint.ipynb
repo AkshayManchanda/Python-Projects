{
 "cells": [
  {
   "cell_type": "code",
   "execution_count": 33,
   "metadata": {
    "collapsed": false,
    "deletable": true,
    "editable": true
   },
   "outputs": [
    {
     "name": "stdout",
     "output_type": "stream",
     "text": [
      "Index(['Intercept', 'PERCENTAGE', 'BACKLOG', 'INTERNSHIP', 'FIRSTROUND',\n",
      "       'COMMUNICATIONSKILLLS'],\n",
      "      dtype='object')\n"
     ]
    },
    {
     "name": "stderr",
     "output_type": "stream",
     "text": [
      "C:\\Users\\Akshay Manchanda\\AppData\\Local\\Enthought\\Canopy\\edm\\envs\\User\\lib\\site-packages\\sklearn\\utils\\validation.py:395: DeprecationWarning: Passing 1d arrays as data is deprecated in 0.17 and will raise ValueError in 0.19. Reshape your data either using X.reshape(-1, 1) if your data has a single feature or X.reshape(1, -1) if it contains a single sample.\n",
      "  DeprecationWarning)\n"
     ]
    },
    {
     "data": {
      "text/plain": [
       "array([ 1.])"
      ]
     },
     "execution_count": 33,
     "metadata": {},
     "output_type": "execute_result"
    }
   ],
   "source": [
    "import numpy as np\n",
    "import pandas as pd\n",
    "from patsy import dmatrices\n",
    "from sklearn.linear_model import LogisticRegression\n",
    "\n",
    "df = pd.read_csv('PrepData.csv')\n",
    "df.head(20)\n",
    "Y, X = dmatrices('Hired ~ PERCENTAGE + BACKLOG + INTERNSHIP + FIRSTROUND + COMMUNICATIONSKILLLS',df,return_type=\"dataframe\")\n",
    "Y = np.ravel(Y)\n",
    "print(X.columns)\n",
    "\n",
    "model=LogisticRegression()\n",
    "model.fit(X,Y)\n",
    "a=[1,99,3,5,92,90]\n",
    "model.predict(np.array(a))\n",
    "# if(a[1]<=65 or a[2]>3 or a[3]>0 or a[4]<70 or a[5]<75):\n",
    "#     o=[0]"
   ]
  }
 ],
 "metadata": {
  "kernelspec": {
   "display_name": "Python 3",
   "language": "python",
   "name": "python3"
  },
  "language_info": {
   "codemirror_mode": {
    "name": "ipython",
    "version": 3
   },
   "file_extension": ".py",
   "mimetype": "text/x-python",
   "name": "python",
   "nbconvert_exporter": "python",
   "pygments_lexer": "ipython3",
   "version": "3.5.2"
  }
 },
 "nbformat": 4,
 "nbformat_minor": 2
}
