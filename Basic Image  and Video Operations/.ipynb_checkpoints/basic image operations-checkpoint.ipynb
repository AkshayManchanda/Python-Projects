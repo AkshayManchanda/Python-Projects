{
 "cells": [
  {
   "cell_type": "markdown",
   "metadata": {
    "deletable": true,
    "editable": true
   },
   "source": [
    "# Read an image"
   ]
  },
  {
   "cell_type": "markdown",
   "metadata": {
    "deletable": true,
    "editable": true
   },
   "source": [
    "Use the function cv2.imread() to read an image. The image should be in the working directory or a full path of image should be given. Second argument is a flag which specifies the way image should be read. *cv2.IMREAD_COLOR: Loads a color image. Any transparency of image will be neglected.It is the default flag. *cv2.IMREAD_GRAYSCALE: Loads image in grayscale mode. *cv2.IMREAD_UNCHANGED: Loads image as including alpha channel\n",
    "\n",
    "NOTE: Instead of these three flags, you can simply pass integers 1, 0 or -1 respectively"
   ]
  },
  {
   "cell_type": "code",
   "execution_count": 1,
   "metadata": {
    "collapsed": false,
    "deletable": true,
    "editable": true
   },
   "outputs": [
    {
     "name": "stdout",
     "output_type": "stream",
     "text": [
      "[[221 221 222 ..., 229 229 229]\n",
      " [221 221 222 ..., 229 229 229]\n",
      " [221 221 222 ..., 229 229 229]\n",
      " ..., \n",
      " [ 75  72  73 ...,   0   0   0]\n",
      " [ 77  72  80 ...,   0   0   0]\n",
      " [ 77  73  81 ...,   0   0   0]]\n"
     ]
    }
   ],
   "source": [
    "import numpy as np\n",
    "import cv2\n",
    "#load an color image in grayscale but this is temporary jb tk save ni kri\n",
    "img = cv2.imread('news.jpg',0) #with extention\n",
    "print(img)"
   ]
  },
  {
   "cell_type": "markdown",
   "metadata": {
    "deletable": true,
    "editable": true
   },
   "source": [
    "# Display an Image"
   ]
  },
  {
   "cell_type": "markdown",
   "metadata": {
    "deletable": true,
    "editable": true
   },
   "source": [
    "Use the function cv2.imshow() to display an image in a window. The window automatically fits to the image size."
   ]
  },
  {
   "cell_type": "code",
   "execution_count": 2,
   "metadata": {
    "collapsed": false,
    "deletable": true,
    "editable": true
   },
   "outputs": [],
   "source": [
    "cv2.imshow('image',img) #('TITLE OF THE WINDOW', IMAGE_VARIABLE)\n",
    "cv2.waitKey(0) #jb koi key press kri to (0) milisecond ke baad further operation perform hoga\n",
    "#cv2.destroyWindow('image') or\n",
    "cv2.destroyAllWindows()"
   ]
  },
  {
   "cell_type": "markdown",
   "metadata": {
    "deletable": true,
    "editable": true
   },
   "source": [
    "Note: There is a special case where you can already create a window and load image to it later. In that case you can specify whether window is resizable or not. It is done with the function cv2.namedWindow(). By default, the flag is cv2.WINDOW_AUTOSIZE. But if you specify flag to be cv2.WINDOW_NORMAL, you can resize window. It will be helpful when image is too large in dimension and adding track bar to windows."
   ]
  },
  {
   "cell_type": "code",
   "execution_count": 3,
   "metadata": {
    "collapsed": false,
    "deletable": true,
    "editable": true
   },
   "outputs": [],
   "source": [
    "cv2.namedWindow('image',cv2.WINDOW_NORMAL) #dono me same title hona chahiye\n",
    "cv2.imshow('image',img)\n",
    "cv2.waitKey(0)\n",
    "cv2.destroyAllWindows()"
   ]
  },
  {
   "cell_type": "markdown",
   "metadata": {
    "deletable": true,
    "editable": true
   },
   "source": [
    "# Write an image"
   ]
  },
  {
   "cell_type": "markdown",
   "metadata": {
    "deletable": true,
    "editable": true
   },
   "source": [
    "Use the function cv2.imwrite() to save an image."
   ]
  },
  {
   "cell_type": "code",
   "execution_count": 4,
   "metadata": {
    "collapsed": false,
    "deletable": true,
    "editable": true
   },
   "outputs": [
    {
     "data": {
      "text/plain": [
       "True"
      ]
     },
     "execution_count": 4,
     "metadata": {},
     "output_type": "execute_result"
    }
   ],
   "source": [
    "cv2.imwrite('bpit.png',img) # to save to disk ('name with extention', image variable)"
   ]
  },
  {
   "cell_type": "markdown",
   "metadata": {
    "deletable": true,
    "editable": true
   },
   "source": [
    "Sum it up Below program loads an image in grayscale, displays it, save the image if you press 's' and exit, or simply exit without saving if you press ESC key"
   ]
  },
  {
   "cell_type": "code",
   "execution_count": 5,
   "metadata": {
    "collapsed": false,
    "deletable": true,
    "editable": true
   },
   "outputs": [
    {
     "name": "stdout",
     "output_type": "stream",
     "text": [
      "-1\n"
     ]
    }
   ],
   "source": [
    "import numpy as np\n",
    "import cv2\n",
    "img = cv2.imread('news.jpg',0) #read in grayscale\n",
    "cv2.imshow('Nishant',img) #title is Nishant\n",
    "k=cv2.waitKey(0) # key jo press kri h uski ascii value k me chle jaygi\n",
    "print(k)\n",
    "if k == 27: #wait for ESC key to exit (ascii value of ESC is 27)\n",
    "    cv2.destroyAllWindows()\n",
    "elif k == ord('s'): #wait for 's' key to save and exit #ord converts string to ascii value\n",
    "    cv2.imwrite('news_12233.png',img)\n",
    "    cv2.destroyAllWindows()"
   ]
  },
  {
   "cell_type": "markdown",
   "metadata": {
    "deletable": true,
    "editable": true
   },
   "source": [
    "# Accessing Image Properties"
   ]
  },
  {
   "cell_type": "code",
   "execution_count": 6,
   "metadata": {
    "collapsed": false,
    "deletable": true,
    "editable": true
   },
   "outputs": [
    {
     "name": "stdout",
     "output_type": "stream",
     "text": [
      "(650, 568)\n",
      "369200\n",
      "uint8\n",
      "<class 'numpy.ndarray'>\n",
      "2\n"
     ]
    }
   ],
   "source": [
    "print(img.shape) #rows and column\n",
    "print(img.size) #upr dono ka *\n",
    "print(img.dtype) #datatype unsigned integer 8 me hoti h as minimized form me hoti h\n",
    "print(type(img)) #type\n",
    "print(img.ndim) #dimension"
   ]
  },
  {
   "cell_type": "code",
   "execution_count": 7,
   "metadata": {
    "collapsed": false,
    "deletable": true,
    "editable": true
   },
   "outputs": [
    {
     "name": "stdout",
     "output_type": "stream",
     "text": [
      "(1275, 800)\n"
     ]
    }
   ],
   "source": [
    "res = cv2.resize(img,(800,1275)) #pehle kise resize krna h the tuple of rows and columns.. ye jo output me ayga ya normally hota h usse ulta daalte h\n",
    "print(res.shape)"
   ]
  },
  {
   "cell_type": "code",
   "execution_count": 8,
   "metadata": {
    "collapsed": false,
    "deletable": true,
    "editable": true
   },
   "outputs": [],
   "source": [
    "#use scaling multiply or divide by something\n",
    "res2 = cv2.resize(img,(int(img.shape[1]/2),int(img.shape[0]/2))) #as tuple pass krna tha\n",
    "cv2.imshow('image_res',res2)\n",
    "cv2.waitKey(0)\n",
    "cv2.destroyAllWindows()"
   ]
  },
  {
   "cell_type": "markdown",
   "metadata": {
    "collapsed": true,
    "deletable": true,
    "editable": true
   },
   "source": [
    "# Capturing Video"
   ]
  },
  {
   "cell_type": "code",
   "execution_count": 11,
   "metadata": {
    "collapsed": false,
    "deletable": true,
    "editable": true
   },
   "outputs": [],
   "source": [
    "import cv2,time\n",
    "video = cv2.VideoCapture(0) #default webcam #video is a object that holds all the data values of the webcam\n",
    "while True:\n",
    "    check,frame = video.read()\n",
    "    #print(check)\n",
    "    #print(frame)\n",
    "    #gray = cv2.cvtColor(frame,cv2.COLOR_BGR2GRAY)\n",
    "    #time.sleep(3)\n",
    "    frame=cv2.flip(frame,1) #to laterally inverted image (Left is right and right is left)\n",
    "    cv2.imshow('Capturing', frame) #if gray scale me chahiye to frame ke badle gray kro and upr comment hta do gray waali line me\n",
    "    \n",
    "    k=cv2.waitKey(1) #kam se kam ek frame pass kr paye.. video ke andr 1 daalna h hmesha.. image ke andar 0\n",
    "    if k==ord('q'):\n",
    "        break\n",
    "    \n",
    "video.release() #to ensure that webcam free hojaye nhi to engage hi rhega.. age khi error ajaye to fir access ni kr paynge webcam ko..to us case me alag se run krdo ye line\n",
    "#it should go in finally statement\n",
    "cv2.destroyAllWindows()\n",
    "    "
   ]
  },
  {
   "cell_type": "code",
   "execution_count": 12,
   "metadata": {
    "collapsed": true,
    "deletable": true,
    "editable": true
   },
   "outputs": [],
   "source": [
    "video.release()\n",
    "cv2.destroyAllWindows() #in case ki error ajaye to ye cell chala do"
   ]
  },
  {
   "cell_type": "markdown",
   "metadata": {
    "deletable": true,
    "editable": true
   },
   "source": [
    "# Writing video"
   ]
  },
  {
   "cell_type": "code",
   "execution_count": null,
   "metadata": {
    "collapsed": false,
    "deletable": true,
    "editable": true
   },
   "outputs": [],
   "source": [
    "#import numpy as np\n",
    "import cv2\n",
    "\n",
    "cap = cv2.VideoCapture(0)\n",
    "fourcc = cv2.VideoWriter_fourcc(*'MJPG') #CODEC kya lia hai\n",
    "out = cv2.VideoWriter('output.avi',fourcc,20.0,(640,480)) #wite krre h isse (outfile.extension,codec,frames_per_second, resolution)\n",
    "while(True):\n",
    "    ret, frame = cap.read()\n",
    "    gray = cv2.cvtColor(frame,cv2.COLOR_BGR2GRAY)\n",
    "    out.write(frame) #write krre h isse\n",
    "    cv2.imshow('frame',gray)\n",
    "    if cv2.waitKey(1) & 0xFF == ord('q'):\n",
    "        break\n",
    "cap.release() #release camera\n",
    "out.release() #release the file(output)\n",
    "cv2.destroyAllWindows()"
   ]
  },
  {
   "cell_type": "code",
   "execution_count": 16,
   "metadata": {
    "collapsed": true,
    "deletable": true,
    "editable": true
   },
   "outputs": [],
   "source": [
    "cap.release() #release camera\n",
    "out.release() #release the file(output)\n",
    "cv2.destroyAllWindows()"
   ]
  },
  {
   "cell_type": "code",
   "execution_count": null,
   "metadata": {
    "collapsed": true,
    "deletable": true,
    "editable": true
   },
   "outputs": [],
   "source": []
  }
 ],
 "metadata": {
  "kernelspec": {
   "display_name": "Python 3",
   "language": "python",
   "name": "python3"
  },
  "language_info": {
   "codemirror_mode": {
    "name": "ipython",
    "version": 3
   },
   "file_extension": ".py",
   "mimetype": "text/x-python",
   "name": "python",
   "nbconvert_exporter": "python",
   "pygments_lexer": "ipython3",
   "version": "3.5.2"
  }
 },
 "nbformat": 4,
 "nbformat_minor": 2
}
