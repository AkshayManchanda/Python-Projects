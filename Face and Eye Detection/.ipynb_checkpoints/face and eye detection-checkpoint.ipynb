{
 "cells": [
  {
   "cell_type": "code",
   "execution_count": 1,
   "metadata": {
    "collapsed": false,
    "deletable": true,
    "editable": true
   },
   "outputs": [
    {
     "name": "stdout",
     "output_type": "stream",
     "text": [
      "[[308  63 175 175]]\n"
     ]
    }
   ],
   "source": [
    "#haarcascade me saare object ke nature shape hota h\n",
    "#we convert image to grayscale as sirf object detect krna hai.. color me 3 dimensional image bn jaygi\n",
    "\n",
    "import numpy as np\n",
    "import cv2\n",
    "\n",
    "#multiple cascades: http://github.com/Itseez/opencv/tree/master/data/haarcascade......\n",
    "face_cascade = cv2.CascadeClassifier('haarcascade_frontalface_default.xml') \n",
    "img = cv2.imread('my2.jpg') #image read\n",
    "\n",
    "gray = cv2.cvtColor(img, cv2.COLOR_BGR2GRAY) #grayscale\n",
    "\n",
    "faces = face_cascade.detectMultiScale(gray,scaleFactor=1.3,minNeighbors=5) #face detect check for parameters\n",
    "print(faces)\n",
    "for (x,y,w,h) in faces: #har ek pair ke lie sirf wo face extract kra\n",
    "    cv2.rectangle(img,(x,y),(x+w,y+h),(225,0,0),2) #(image variable, (x,y)TOP-LEFT CORNER, (x+w,y+h)BOTTOM-RIGHT CORNER),B-G-R color(or hash coding can also be used), thickness....\n",
    "    roi_gray = gray[y:y+h, x:x+w] #grayscale (first y then x)\n",
    "    roi_color = img[y:y+h, x:x+w] #color (first y then x)\n",
    "\n",
    "cv2.imshow('img',img)\n",
    "cv2.imshow('img1',roi_gray)\n",
    "cv2.imshow('img2',roi_color)\n",
    "cv2.waitKey(0)\n",
    "cv2.destroyAllWindows()\n",
    "#neeche jo likhi h pehlo do to square ke top left ke coordinates hai.. end ke do square ke dimensions h"
   ]
  },
  {
   "cell_type": "code",
   "execution_count": null,
   "metadata": {
    "collapsed": true,
    "deletable": true,
    "editable": true
   },
   "outputs": [],
   "source": []
  }
 ],
 "metadata": {
  "kernelspec": {
   "display_name": "Python 3",
   "language": "python",
   "name": "python3"
  },
  "language_info": {
   "codemirror_mode": {
    "name": "ipython",
    "version": 3
   },
   "file_extension": ".py",
   "mimetype": "text/x-python",
   "name": "python",
   "nbconvert_exporter": "python",
   "pygments_lexer": "ipython3",
   "version": "3.5.2"
  }
 },
 "nbformat": 4,
 "nbformat_minor": 2
}
